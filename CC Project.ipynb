{
 "cells": [
  {
   "cell_type": "markdown",
   "id": "827daa67",
   "metadata": {},
   "source": [
    "# About The Dataset\n"
   ]
  },
  {
   "cell_type": "markdown",
   "id": "1d52d279",
   "metadata": {},
   "source": [
    "### Dataset Description"
   ]
  },
  {
   "cell_type": "markdown",
   "id": "d6938354",
   "metadata": {},
   "source": [
    "This dataset pertains to Happy Customer Bank and its cross-selling strategy for credit cards to existing customers. The bank aims to identify customers with a higher likelihood of taking a recommended credit card. Various customer demographics, account details, and engagement metrics are included to support targeted marketing."
   ]
  },
  {
   "cell_type": "markdown",
   "id": "6baddf61",
   "metadata": {},
   "source": [
    "### Dataset Structure"
   ]
  },
  {
   "cell_type": "markdown",
   "id": "754d28c6",
   "metadata": {},
   "source": [
    "The dataset includes the following columns:\n",
    "\n",
    "1-ID: A unique identifier for each customer, used for record tracking.\n",
    "\n",
    "2-Gender: The customer’s gender, either \"Male\" or \"Female\".\n",
    "\n",
    "3-Age: The age of the customer in years, a factor that can influence credit card eligibility and marketing appeal.\n",
    "\n",
    "4-Region_Code: A code representing the customer’s geographical region, indicating where they are located.\n",
    "\n",
    "5-Occupation: The customer’s occupation, categorized as \"Salaried,\" \"Self_Employed,\" or \"Other.\" Different occupations may \n",
    "correlate with different financial behaviors.\n",
    "\n",
    "6-Channel_Code: The code representing the communication channel used to interact with the customer (e.g., \"X1,\" \"X3\"), which \n",
    "helps identify how the customer is approached.\n",
    "\n",
    "7-Vintage: The number of months since the customer opened their account, indicating their tenure with the bank.\n",
    "\n",
    "8-Credit_Product: Indicates if the customer already has a credit product with the bank (\"Yes\" or \"No\"). This can impact the \n",
    "likelihood of a customer adopting a new credit card.\n",
    "\n",
    "9-Avg_Account_Balance: The average account balance of the customer, which serves as an indicator of financial stability.\n",
    "\n",
    "10-Is_Active: Shows if the customer has been actively using their account (Yes/No).\n",
    "\n",
    "11-Is_Lead: The target variable, where 1 represents customers who are likely to show interest in a credit card, and 0 \n",
    "represents those who are not."
   ]
  },
  {
   "cell_type": "markdown",
   "id": "bb489e40",
   "metadata": {},
   "source": [
    "This structure provides a robust foundation for identifying customers who may respond favorably to credit card offers, allowing for segmentation based on demographics, behavior, and product engagement"
   ]
  },
  {
   "cell_type": "code",
   "execution_count": 4,
   "id": "384b95ef",
   "metadata": {},
   "outputs": [],
   "source": [
    "import pandas as pd\n",
    "import numpy as np\n",
    "import matplotlib.pyplot as plt\n",
    "import seaborn as sns\n",
    "import plotly.express as px\n",
    "from sklearn.preprocessing import LabelEncoder\n",
    "from sklearn.preprocessing import OneHotEncoder, StandardScaler\n",
    "from sklearn.compose import ColumnTransformer\n",
    "from category_encoders import BinaryEncoder\n",
    "from sklearn.preprocessing import FunctionTransformer\n",
    "from sklearn.feature_selection import mutual_info_classif\n",
    "from sklearn.impute import SimpleImputer\n",
    "from sklearn.feature_selection import mutual_info_classif\n",
    "from sklearn.linear_model import LogisticRegression\n",
    "from sklearn.tree import DecisionTreeClassifier\n",
    "from xgboost import XGBClassifier\n",
    "from sklearn.svm import SVC\n",
    "from sklearn.ensemble import RandomForestClassifier, GradientBoostingClassifier\n",
    "from sklearn.model_selection import train_test_split, GridSearchCV, cross_val_score\n",
    "from sklearn.neighbors import KNeighborsClassifier\n",
    "from sklearn.metrics import accuracy_score , recall_score , precision_score, make_scorer, f1_score , confusion_matrix , ConfusionMatrixDisplay , classification_report\n",
    "from sklearn.model_selection import train_test_split , cross_validate\n",
    "from sklearn.pipeline import Pipeline\n",
    "from sklearn.pipeline import make_pipeline\n",
    "from sklearn.feature_selection import SelectFromModel\n",
    "from sklearn.feature_selection import SequentialFeatureSelector\n",
    "from sklearn.preprocessing import PolynomialFeatures\n",
    "import warnings\n",
    "warnings.filterwarnings('ignore')"
   ]
  },
  {
   "cell_type": "code",
   "execution_count": 5,
   "id": "c6dea770",
   "metadata": {},
   "outputs": [],
   "source": [
    "# Load the dataset\n",
    "dataset = pd.read_csv('Credit Card Data _Updated.csv')"
   ]
  },
  {
   "cell_type": "code",
   "execution_count": 6,
   "id": "528db9eb",
   "metadata": {},
   "outputs": [
    {
     "data": {
      "text/html": [
       "<div>\n",
       "<style scoped>\n",
       "    .dataframe tbody tr th:only-of-type {\n",
       "        vertical-align: middle;\n",
       "    }\n",
       "\n",
       "    .dataframe tbody tr th {\n",
       "        vertical-align: top;\n",
       "    }\n",
       "\n",
       "    .dataframe thead th {\n",
       "        text-align: right;\n",
       "    }\n",
       "</style>\n",
       "<table border=\"1\" class=\"dataframe\">\n",
       "  <thead>\n",
       "    <tr style=\"text-align: right;\">\n",
       "      <th></th>\n",
       "      <th>ID</th>\n",
       "      <th>Gender</th>\n",
       "      <th>Age</th>\n",
       "      <th>Region_Code</th>\n",
       "      <th>Occupation</th>\n",
       "      <th>Channel_Code</th>\n",
       "      <th>Vintage</th>\n",
       "      <th>Credit_Product</th>\n",
       "      <th>Avg_Account_Balance</th>\n",
       "      <th>Is_Active</th>\n",
       "      <th>Is_Lead</th>\n",
       "    </tr>\n",
       "  </thead>\n",
       "  <tbody>\n",
       "    <tr>\n",
       "      <th>0</th>\n",
       "      <td>NNVBBKZB</td>\n",
       "      <td>Female</td>\n",
       "      <td>73</td>\n",
       "      <td>RG268</td>\n",
       "      <td>Other</td>\n",
       "      <td>X3</td>\n",
       "      <td>43.0</td>\n",
       "      <td>No</td>\n",
       "      <td>1045696</td>\n",
       "      <td>No</td>\n",
       "      <td>0</td>\n",
       "    </tr>\n",
       "    <tr>\n",
       "      <th>1</th>\n",
       "      <td>IDD62UNG</td>\n",
       "      <td>Female</td>\n",
       "      <td>30</td>\n",
       "      <td>RG277</td>\n",
       "      <td>Salaried</td>\n",
       "      <td>X1</td>\n",
       "      <td>32.0</td>\n",
       "      <td>No</td>\n",
       "      <td>581988</td>\n",
       "      <td>No</td>\n",
       "      <td>0</td>\n",
       "    </tr>\n",
       "    <tr>\n",
       "      <th>2</th>\n",
       "      <td>HD3DSEMC</td>\n",
       "      <td>Female</td>\n",
       "      <td>56</td>\n",
       "      <td>RG268</td>\n",
       "      <td>Self_Employed</td>\n",
       "      <td>X3</td>\n",
       "      <td>26.0</td>\n",
       "      <td>No</td>\n",
       "      <td>1484315</td>\n",
       "      <td>Yes</td>\n",
       "      <td>0</td>\n",
       "    </tr>\n",
       "    <tr>\n",
       "      <th>3</th>\n",
       "      <td>BF3NC7KV</td>\n",
       "      <td>Male</td>\n",
       "      <td>34</td>\n",
       "      <td>RG270</td>\n",
       "      <td>Salaried</td>\n",
       "      <td>X1</td>\n",
       "      <td>19.0</td>\n",
       "      <td>No</td>\n",
       "      <td>470454</td>\n",
       "      <td>No</td>\n",
       "      <td>0</td>\n",
       "    </tr>\n",
       "    <tr>\n",
       "      <th>4</th>\n",
       "      <td>TEASRWXV</td>\n",
       "      <td>Female</td>\n",
       "      <td>30</td>\n",
       "      <td>RG282</td>\n",
       "      <td>Salaried</td>\n",
       "      <td>X1</td>\n",
       "      <td>33.0</td>\n",
       "      <td>No</td>\n",
       "      <td>886787</td>\n",
       "      <td>No</td>\n",
       "      <td>0</td>\n",
       "    </tr>\n",
       "    <tr>\n",
       "      <th>...</th>\n",
       "      <td>...</td>\n",
       "      <td>...</td>\n",
       "      <td>...</td>\n",
       "      <td>...</td>\n",
       "      <td>...</td>\n",
       "      <td>...</td>\n",
       "      <td>...</td>\n",
       "      <td>...</td>\n",
       "      <td>...</td>\n",
       "      <td>...</td>\n",
       "      <td>...</td>\n",
       "    </tr>\n",
       "    <tr>\n",
       "      <th>31324</th>\n",
       "      <td>B4X7R4MP</td>\n",
       "      <td>Male</td>\n",
       "      <td>42</td>\n",
       "      <td>RG280</td>\n",
       "      <td>Self_Employed</td>\n",
       "      <td>X2</td>\n",
       "      <td>19.0</td>\n",
       "      <td>No</td>\n",
       "      <td>230385</td>\n",
       "      <td>No</td>\n",
       "      <td>0</td>\n",
       "    </tr>\n",
       "    <tr>\n",
       "      <th>31325</th>\n",
       "      <td>ZNHVHDQM</td>\n",
       "      <td>Female</td>\n",
       "      <td>42</td>\n",
       "      <td>RG261</td>\n",
       "      <td>Other</td>\n",
       "      <td>X4</td>\n",
       "      <td>13.0</td>\n",
       "      <td>NaN</td>\n",
       "      <td>1346222</td>\n",
       "      <td>No</td>\n",
       "      <td>1</td>\n",
       "    </tr>\n",
       "    <tr>\n",
       "      <th>31326</th>\n",
       "      <td>KEXT9UB8</td>\n",
       "      <td>Male</td>\n",
       "      <td>58</td>\n",
       "      <td>RG284</td>\n",
       "      <td>Self_Employed</td>\n",
       "      <td>X3</td>\n",
       "      <td>105.0</td>\n",
       "      <td>Yes</td>\n",
       "      <td>4794608</td>\n",
       "      <td>No</td>\n",
       "      <td>0</td>\n",
       "    </tr>\n",
       "    <tr>\n",
       "      <th>31327</th>\n",
       "      <td>JX6GZRMY</td>\n",
       "      <td>Male</td>\n",
       "      <td>29</td>\n",
       "      <td>RG281</td>\n",
       "      <td>Salaried</td>\n",
       "      <td>X1</td>\n",
       "      <td>13.0</td>\n",
       "      <td>No</td>\n",
       "      <td>1632616</td>\n",
       "      <td>No</td>\n",
       "      <td>1</td>\n",
       "    </tr>\n",
       "    <tr>\n",
       "      <th>31328</th>\n",
       "      <td>9JMFRKUF</td>\n",
       "      <td>Male</td>\n",
       "      <td>35</td>\n",
       "      <td>RG282</td>\n",
       "      <td>Salaried</td>\n",
       "      <td>X1</td>\n",
       "      <td>33.0</td>\n",
       "      <td>Yes</td>\n",
       "      <td>1225823</td>\n",
       "      <td>No</td>\n",
       "      <td>0</td>\n",
       "    </tr>\n",
       "  </tbody>\n",
       "</table>\n",
       "<p>31329 rows × 11 columns</p>\n",
       "</div>"
      ],
      "text/plain": [
       "             ID  Gender  Age Region_Code     Occupation Channel_Code  Vintage  \\\n",
       "0      NNVBBKZB  Female   73       RG268          Other           X3     43.0   \n",
       "1      IDD62UNG  Female   30       RG277       Salaried           X1     32.0   \n",
       "2      HD3DSEMC  Female   56       RG268  Self_Employed           X3     26.0   \n",
       "3      BF3NC7KV    Male   34       RG270       Salaried           X1     19.0   \n",
       "4      TEASRWXV  Female   30       RG282       Salaried           X1     33.0   \n",
       "...         ...     ...  ...         ...            ...          ...      ...   \n",
       "31324  B4X7R4MP    Male   42       RG280  Self_Employed           X2     19.0   \n",
       "31325  ZNHVHDQM  Female   42       RG261          Other           X4     13.0   \n",
       "31326  KEXT9UB8    Male   58       RG284  Self_Employed           X3    105.0   \n",
       "31327  JX6GZRMY    Male   29       RG281       Salaried           X1     13.0   \n",
       "31328  9JMFRKUF    Male   35       RG282       Salaried           X1     33.0   \n",
       "\n",
       "      Credit_Product  Avg_Account_Balance Is_Active  Is_Lead  \n",
       "0                 No              1045696        No        0  \n",
       "1                 No               581988        No        0  \n",
       "2                 No              1484315       Yes        0  \n",
       "3                 No               470454        No        0  \n",
       "4                 No               886787        No        0  \n",
       "...              ...                  ...       ...      ...  \n",
       "31324             No               230385        No        0  \n",
       "31325            NaN              1346222        No        1  \n",
       "31326            Yes              4794608        No        0  \n",
       "31327             No              1632616        No        1  \n",
       "31328            Yes              1225823        No        0  \n",
       "\n",
       "[31329 rows x 11 columns]"
      ]
     },
     "execution_count": 6,
     "metadata": {},
     "output_type": "execute_result"
    }
   ],
   "source": [
    "dataset"
   ]
  },
  {
   "cell_type": "markdown",
   "id": "54580501",
   "metadata": {},
   "source": [
    "# EDA"
   ]
  },
  {
   "cell_type": "code",
   "execution_count": 7,
   "id": "97dff3f1",
   "metadata": {
    "scrolled": true
   },
   "outputs": [
    {
     "name": "stdout",
     "output_type": "stream",
     "text": [
      "<class 'pandas.core.frame.DataFrame'>\n",
      "RangeIndex: 31329 entries, 0 to 31328\n",
      "Data columns (total 11 columns):\n",
      " #   Column               Non-Null Count  Dtype  \n",
      "---  ------               --------------  -----  \n",
      " 0   ID                   31329 non-null  object \n",
      " 1   Gender               31329 non-null  object \n",
      " 2   Age                  31329 non-null  int64  \n",
      " 3   Region_Code          31329 non-null  object \n",
      " 4   Occupation           31329 non-null  object \n",
      " 5   Channel_Code         31329 non-null  object \n",
      " 6   Vintage              31146 non-null  float64\n",
      " 7   Credit_Product       27559 non-null  object \n",
      " 8   Avg_Account_Balance  31329 non-null  int64  \n",
      " 9   Is_Active            31329 non-null  object \n",
      " 10  Is_Lead              31329 non-null  int64  \n",
      "dtypes: float64(1), int64(3), object(7)\n",
      "memory usage: 2.6+ MB\n"
     ]
    }
   ],
   "source": [
    "dataset.info()"
   ]
  },
  {
   "cell_type": "code",
   "execution_count": 8,
   "id": "1a175005",
   "metadata": {
    "scrolled": false
   },
   "outputs": [
    {
     "data": {
      "text/html": [
       "<div>\n",
       "<style scoped>\n",
       "    .dataframe tbody tr th:only-of-type {\n",
       "        vertical-align: middle;\n",
       "    }\n",
       "\n",
       "    .dataframe tbody tr th {\n",
       "        vertical-align: top;\n",
       "    }\n",
       "\n",
       "    .dataframe thead th {\n",
       "        text-align: right;\n",
       "    }\n",
       "</style>\n",
       "<table border=\"1\" class=\"dataframe\">\n",
       "  <thead>\n",
       "    <tr style=\"text-align: right;\">\n",
       "      <th></th>\n",
       "      <th>ID</th>\n",
       "      <th>Gender</th>\n",
       "      <th>Age</th>\n",
       "      <th>Region_Code</th>\n",
       "      <th>Occupation</th>\n",
       "      <th>Channel_Code</th>\n",
       "      <th>Vintage</th>\n",
       "      <th>Credit_Product</th>\n",
       "      <th>Avg_Account_Balance</th>\n",
       "      <th>Is_Active</th>\n",
       "      <th>Is_Lead</th>\n",
       "    </tr>\n",
       "  </thead>\n",
       "  <tbody>\n",
       "    <tr>\n",
       "      <th>0</th>\n",
       "      <td>NNVBBKZB</td>\n",
       "      <td>Female</td>\n",
       "      <td>73</td>\n",
       "      <td>RG268</td>\n",
       "      <td>Other</td>\n",
       "      <td>X3</td>\n",
       "      <td>43.0</td>\n",
       "      <td>No</td>\n",
       "      <td>1045696</td>\n",
       "      <td>No</td>\n",
       "      <td>0</td>\n",
       "    </tr>\n",
       "    <tr>\n",
       "      <th>1</th>\n",
       "      <td>IDD62UNG</td>\n",
       "      <td>Female</td>\n",
       "      <td>30</td>\n",
       "      <td>RG277</td>\n",
       "      <td>Salaried</td>\n",
       "      <td>X1</td>\n",
       "      <td>32.0</td>\n",
       "      <td>No</td>\n",
       "      <td>581988</td>\n",
       "      <td>No</td>\n",
       "      <td>0</td>\n",
       "    </tr>\n",
       "    <tr>\n",
       "      <th>2</th>\n",
       "      <td>HD3DSEMC</td>\n",
       "      <td>Female</td>\n",
       "      <td>56</td>\n",
       "      <td>RG268</td>\n",
       "      <td>Self_Employed</td>\n",
       "      <td>X3</td>\n",
       "      <td>26.0</td>\n",
       "      <td>No</td>\n",
       "      <td>1484315</td>\n",
       "      <td>Yes</td>\n",
       "      <td>0</td>\n",
       "    </tr>\n",
       "    <tr>\n",
       "      <th>3</th>\n",
       "      <td>BF3NC7KV</td>\n",
       "      <td>Male</td>\n",
       "      <td>34</td>\n",
       "      <td>RG270</td>\n",
       "      <td>Salaried</td>\n",
       "      <td>X1</td>\n",
       "      <td>19.0</td>\n",
       "      <td>No</td>\n",
       "      <td>470454</td>\n",
       "      <td>No</td>\n",
       "      <td>0</td>\n",
       "    </tr>\n",
       "    <tr>\n",
       "      <th>4</th>\n",
       "      <td>TEASRWXV</td>\n",
       "      <td>Female</td>\n",
       "      <td>30</td>\n",
       "      <td>RG282</td>\n",
       "      <td>Salaried</td>\n",
       "      <td>X1</td>\n",
       "      <td>33.0</td>\n",
       "      <td>No</td>\n",
       "      <td>886787</td>\n",
       "      <td>No</td>\n",
       "      <td>0</td>\n",
       "    </tr>\n",
       "  </tbody>\n",
       "</table>\n",
       "</div>"
      ],
      "text/plain": [
       "         ID  Gender  Age Region_Code     Occupation Channel_Code  Vintage  \\\n",
       "0  NNVBBKZB  Female   73       RG268          Other           X3     43.0   \n",
       "1  IDD62UNG  Female   30       RG277       Salaried           X1     32.0   \n",
       "2  HD3DSEMC  Female   56       RG268  Self_Employed           X3     26.0   \n",
       "3  BF3NC7KV    Male   34       RG270       Salaried           X1     19.0   \n",
       "4  TEASRWXV  Female   30       RG282       Salaried           X1     33.0   \n",
       "\n",
       "  Credit_Product  Avg_Account_Balance Is_Active  Is_Lead  \n",
       "0             No              1045696        No        0  \n",
       "1             No               581988        No        0  \n",
       "2             No              1484315       Yes        0  \n",
       "3             No               470454        No        0  \n",
       "4             No               886787        No        0  "
      ]
     },
     "execution_count": 8,
     "metadata": {},
     "output_type": "execute_result"
    }
   ],
   "source": [
    "dataset.head()"
   ]
  },
  {
   "cell_type": "code",
   "execution_count": 9,
   "id": "202aa2fa",
   "metadata": {},
   "outputs": [],
   "source": [
    "data = dataset.drop(columns=['ID', 'Region_Code', 'Channel_Code'])"
   ]
  },
  {
   "cell_type": "code",
   "execution_count": 10,
   "id": "d57eb6fe",
   "metadata": {},
   "outputs": [
    {
     "data": {
      "text/html": [
       "<div>\n",
       "<style scoped>\n",
       "    .dataframe tbody tr th:only-of-type {\n",
       "        vertical-align: middle;\n",
       "    }\n",
       "\n",
       "    .dataframe tbody tr th {\n",
       "        vertical-align: top;\n",
       "    }\n",
       "\n",
       "    .dataframe thead th {\n",
       "        text-align: right;\n",
       "    }\n",
       "</style>\n",
       "<table border=\"1\" class=\"dataframe\">\n",
       "  <thead>\n",
       "    <tr style=\"text-align: right;\">\n",
       "      <th></th>\n",
       "      <th>Gender</th>\n",
       "      <th>Age</th>\n",
       "      <th>Occupation</th>\n",
       "      <th>Vintage</th>\n",
       "      <th>Credit_Product</th>\n",
       "      <th>Avg_Account_Balance</th>\n",
       "      <th>Is_Active</th>\n",
       "      <th>Is_Lead</th>\n",
       "    </tr>\n",
       "  </thead>\n",
       "  <tbody>\n",
       "    <tr>\n",
       "      <th>0</th>\n",
       "      <td>Female</td>\n",
       "      <td>73</td>\n",
       "      <td>Other</td>\n",
       "      <td>43.0</td>\n",
       "      <td>No</td>\n",
       "      <td>1045696</td>\n",
       "      <td>No</td>\n",
       "      <td>0</td>\n",
       "    </tr>\n",
       "    <tr>\n",
       "      <th>1</th>\n",
       "      <td>Female</td>\n",
       "      <td>30</td>\n",
       "      <td>Salaried</td>\n",
       "      <td>32.0</td>\n",
       "      <td>No</td>\n",
       "      <td>581988</td>\n",
       "      <td>No</td>\n",
       "      <td>0</td>\n",
       "    </tr>\n",
       "    <tr>\n",
       "      <th>2</th>\n",
       "      <td>Female</td>\n",
       "      <td>56</td>\n",
       "      <td>Self_Employed</td>\n",
       "      <td>26.0</td>\n",
       "      <td>No</td>\n",
       "      <td>1484315</td>\n",
       "      <td>Yes</td>\n",
       "      <td>0</td>\n",
       "    </tr>\n",
       "    <tr>\n",
       "      <th>3</th>\n",
       "      <td>Male</td>\n",
       "      <td>34</td>\n",
       "      <td>Salaried</td>\n",
       "      <td>19.0</td>\n",
       "      <td>No</td>\n",
       "      <td>470454</td>\n",
       "      <td>No</td>\n",
       "      <td>0</td>\n",
       "    </tr>\n",
       "    <tr>\n",
       "      <th>4</th>\n",
       "      <td>Female</td>\n",
       "      <td>30</td>\n",
       "      <td>Salaried</td>\n",
       "      <td>33.0</td>\n",
       "      <td>No</td>\n",
       "      <td>886787</td>\n",
       "      <td>No</td>\n",
       "      <td>0</td>\n",
       "    </tr>\n",
       "    <tr>\n",
       "      <th>...</th>\n",
       "      <td>...</td>\n",
       "      <td>...</td>\n",
       "      <td>...</td>\n",
       "      <td>...</td>\n",
       "      <td>...</td>\n",
       "      <td>...</td>\n",
       "      <td>...</td>\n",
       "      <td>...</td>\n",
       "    </tr>\n",
       "    <tr>\n",
       "      <th>31324</th>\n",
       "      <td>Male</td>\n",
       "      <td>42</td>\n",
       "      <td>Self_Employed</td>\n",
       "      <td>19.0</td>\n",
       "      <td>No</td>\n",
       "      <td>230385</td>\n",
       "      <td>No</td>\n",
       "      <td>0</td>\n",
       "    </tr>\n",
       "    <tr>\n",
       "      <th>31325</th>\n",
       "      <td>Female</td>\n",
       "      <td>42</td>\n",
       "      <td>Other</td>\n",
       "      <td>13.0</td>\n",
       "      <td>NaN</td>\n",
       "      <td>1346222</td>\n",
       "      <td>No</td>\n",
       "      <td>1</td>\n",
       "    </tr>\n",
       "    <tr>\n",
       "      <th>31326</th>\n",
       "      <td>Male</td>\n",
       "      <td>58</td>\n",
       "      <td>Self_Employed</td>\n",
       "      <td>105.0</td>\n",
       "      <td>Yes</td>\n",
       "      <td>4794608</td>\n",
       "      <td>No</td>\n",
       "      <td>0</td>\n",
       "    </tr>\n",
       "    <tr>\n",
       "      <th>31327</th>\n",
       "      <td>Male</td>\n",
       "      <td>29</td>\n",
       "      <td>Salaried</td>\n",
       "      <td>13.0</td>\n",
       "      <td>No</td>\n",
       "      <td>1632616</td>\n",
       "      <td>No</td>\n",
       "      <td>1</td>\n",
       "    </tr>\n",
       "    <tr>\n",
       "      <th>31328</th>\n",
       "      <td>Male</td>\n",
       "      <td>35</td>\n",
       "      <td>Salaried</td>\n",
       "      <td>33.0</td>\n",
       "      <td>Yes</td>\n",
       "      <td>1225823</td>\n",
       "      <td>No</td>\n",
       "      <td>0</td>\n",
       "    </tr>\n",
       "  </tbody>\n",
       "</table>\n",
       "<p>31329 rows × 8 columns</p>\n",
       "</div>"
      ],
      "text/plain": [
       "       Gender  Age     Occupation  Vintage Credit_Product  \\\n",
       "0      Female   73          Other     43.0             No   \n",
       "1      Female   30       Salaried     32.0             No   \n",
       "2      Female   56  Self_Employed     26.0             No   \n",
       "3        Male   34       Salaried     19.0             No   \n",
       "4      Female   30       Salaried     33.0             No   \n",
       "...       ...  ...            ...      ...            ...   \n",
       "31324    Male   42  Self_Employed     19.0             No   \n",
       "31325  Female   42          Other     13.0            NaN   \n",
       "31326    Male   58  Self_Employed    105.0            Yes   \n",
       "31327    Male   29       Salaried     13.0             No   \n",
       "31328    Male   35       Salaried     33.0            Yes   \n",
       "\n",
       "       Avg_Account_Balance Is_Active  Is_Lead  \n",
       "0                  1045696        No        0  \n",
       "1                   581988        No        0  \n",
       "2                  1484315       Yes        0  \n",
       "3                   470454        No        0  \n",
       "4                   886787        No        0  \n",
       "...                    ...       ...      ...  \n",
       "31324               230385        No        0  \n",
       "31325              1346222        No        1  \n",
       "31326              4794608        No        0  \n",
       "31327              1632616        No        1  \n",
       "31328              1225823        No        0  \n",
       "\n",
       "[31329 rows x 8 columns]"
      ]
     },
     "execution_count": 10,
     "metadata": {},
     "output_type": "execute_result"
    }
   ],
   "source": [
    "data"
   ]
  },
  {
   "cell_type": "code",
   "execution_count": 11,
   "id": "095bf958",
   "metadata": {},
   "outputs": [
    {
     "data": {
      "text/plain": [
       "Gender                 0\n",
       "Age                    0\n",
       "Occupation             0\n",
       "Vintage                0\n",
       "Credit_Product         0\n",
       "Avg_Account_Balance    0\n",
       "Is_Active              0\n",
       "Is_Lead                0\n",
       "dtype: int64"
      ]
     },
     "execution_count": 11,
     "metadata": {},
     "output_type": "execute_result"
    }
   ],
   "source": [
    "# Handle missing values in 'Vintage' and 'Credit_Product'\n",
    "\n",
    "# Impute 'Vintage' with the median value\n",
    "data['Vintage'].fillna(data['Vintage'].median(), inplace=True)\n",
    "\n",
    "# For 'Credit_Product', we'll create a new category 'Unknown' for missing values\n",
    "data['Credit_Product'].fillna('Unknown', inplace=True)\n",
    "\n",
    "# Verify if there are any missing values left\n",
    "missing_values_after = data.isnull().sum()\n",
    "\n",
    "missing_values_after"
   ]
  },
  {
   "cell_type": "markdown",
   "id": "e579522e",
   "metadata": {},
   "source": [
    "### Univariate Analysis"
   ]
  },
  {
   "cell_type": "code",
   "execution_count": 12,
   "id": "5857e204",
   "metadata": {
    "scrolled": false
   },
   "outputs": [],
   "source": [
    "# Question 1: What is the distribution of Age?\n",
    "plt.figure(figsize=(8, 6))\n",
    "sns.histplot(data['Age'], kde=True, bins=20, color='blue')\n",
    "plt.title('Distribution of Age')\n",
    "plt.xlabel('Age')\n",
    "plt.ylabel('Frequency')\n",
    "plt.show()"
   ]
  },
  {
   "cell_type": "code",
   "execution_count": 13,
   "id": "908715f2",
   "metadata": {},
   "outputs": [],
   "source": [
    "# The Age distribution is likely unimodal, with most values concentrated around a specific range (e.g., 25–45 years), depending on the dataset.\n",
    "\n",
    "# Since the distribution is right-skewed it indicates younger customers dominate. "
   ]
  },
  {
   "cell_type": "code",
   "execution_count": 14,
   "id": "c5a2c580",
   "metadata": {},
   "outputs": [],
   "source": [
    "# Question 2: What is the distribution of Average Account Balance?\n",
    "plt.figure(figsize=(8, 6))\n",
    "sns.histplot(data['Avg_Account_Balance'], kde=True, bins=20, color='green')\n",
    "plt.title('Distribution of Average Account Balance')\n",
    "plt.xlabel('Average Account Balance')\n",
    "plt.ylabel('Frequency')\n",
    "plt.show()"
   ]
  },
  {
   "cell_type": "code",
   "execution_count": 15,
   "id": "639794bb",
   "metadata": {},
   "outputs": [],
   "source": [
    "# Avg_Account_Balance might show significant right-skewness, meaning most customers \n",
    "# have a low balance while a few have very high balances."
   ]
  },
  {
   "cell_type": "markdown",
   "id": "4aed5ed4",
   "metadata": {},
   "source": [
    "### Bivariate Analysis"
   ]
  },
  {
   "cell_type": "code",
   "execution_count": 16,
   "id": "413a6ffe",
   "metadata": {
    "scrolled": false
   },
   "outputs": [],
   "source": [
    "# Question 3: How does Avg_Account_Balance vary by Gender?\n",
    "plt.figure(figsize=(8, 6))\n",
    "sns.boxplot(x='Gender', y='Avg_Account_Balance', data=data, palette='Set2')\n",
    "plt.title('Average Account Balance by Gender')\n",
    "plt.xlabel('Gender')\n",
    "plt.ylabel('Average Account Balance')\n",
    "plt.show()"
   ]
  },
  {
   "cell_type": "code",
   "execution_count": 17,
   "id": "9dd18a5f",
   "metadata": {},
   "outputs": [],
   "source": [
    "#Suggested no drastic difference between male and female account balances, with subtle variability.\n",
    "#Outliers are visible for both genders, especially on the higher end of the balance."
   ]
  },
  {
   "cell_type": "code",
   "execution_count": 18,
   "id": "f3cbfbd3",
   "metadata": {},
   "outputs": [],
   "source": [
    "# Question 4: How does Avg_Account_Balance vary by Occupation?\n",
    "plt.figure(figsize=(8, 6))\n",
    "sns.boxplot(x='Occupation', y='Avg_Account_Balance', data=data, palette='Set3')\n",
    "plt.title('Average Account Balance by Occupation')\n",
    "plt.xlabel('Occupation')\n",
    "plt.ylabel('Average Account Balance')\n",
    "plt.show()"
   ]
  },
  {
   "cell_type": "code",
   "execution_count": 19,
   "id": "0bce2381",
   "metadata": {},
   "outputs": [],
   "source": [
    "#Entrepreneurs tend to have both a higher median and a wider range \n",
    "#of balances compared to salaried and self-employed individuals.\n",
    "#Self_Employed and Other categories have larger spreads and more outliers, suggesting variability in income\n",
    "#or account behavior in these groups.\n",
    "# Occupation is likely linked to income levels and financial behavior, making it an important factor \n",
    "# to consider when targeting leads"
   ]
  },
  {
   "cell_type": "code",
   "execution_count": 20,
   "id": "63c62a99",
   "metadata": {},
   "outputs": [],
   "source": [
    "# Question 5: What is the relationship between Age and Avg_Account_Balance?\n",
    "plt.figure(figsize=(8, 6))\n",
    "sns.scatterplot(x='Age', y='Avg_Account_Balance', data=data, hue='Gender', palette='coolwarm')\n",
    "plt.title('Age vs Average Account Balance')\n",
    "plt.xlabel('Age')\n",
    "plt.ylabel('Average Account Balance')\n",
    "plt.legend(title='Gender')\n",
    "plt.show()"
   ]
  },
  {
   "cell_type": "code",
   "execution_count": 21,
   "id": "67827b24",
   "metadata": {},
   "outputs": [],
   "source": [
    "#The scatterplot suggests a positive correlation between\n",
    "#age and account balance—older customers tend to have higher balances."
   ]
  },
  {
   "cell_type": "code",
   "execution_count": 22,
   "id": "3ff79b36",
   "metadata": {
    "scrolled": false
   },
   "outputs": [],
   "source": [
    "#Analyze the distribution of the target variable\n",
    "\n",
    "plt.figure(figsize=(8, 6))\n",
    "sns.countplot(x='Is_Lead', data=data, palette='viridis')\n",
    "plt.title('Distribution of Leads (Is_Lead)')\n",
    "plt.xlabel('Is_Lead (0 = Non-Lead, 1 = Lead)')\n",
    "plt.ylabel('Count')\n",
    "plt.show()"
   ]
  },
  {
   "cell_type": "code",
   "execution_count": 23,
   "id": "530f1728",
   "metadata": {},
   "outputs": [],
   "source": [
    "#The target variable (Is_Lead) is highly imbalanced, with significantly more non-leads (0) than leads (1).\n",
    "#Accuracy is not a reliable metric for imbalanced data. Metrics like Precision, Recall, F1-Score are better suited\n",
    "#to evaluate performance."
   ]
  },
  {
   "cell_type": "code",
   "execution_count": 24,
   "id": "9a3cff1d",
   "metadata": {},
   "outputs": [],
   "source": [
    "#Explore the relationship between Gender and Is_Lead\n",
    "plt.figure(figsize=(8, 6))\n",
    "sns.barplot(x='Gender', y='Is_Lead', data=data, ci=None, palette='viridis')\n",
    "plt.title('Proportion of Leads by Gender')\n",
    "plt.xlabel('Gender')\n",
    "plt.ylabel('Proportion of Leads')\n",
    "plt.show()"
   ]
  },
  {
   "cell_type": "code",
   "execution_count": 25,
   "id": "cd6d456a",
   "metadata": {},
   "outputs": [],
   "source": [
    "#Males seems to dominate the lead conversions"
   ]
  },
  {
   "cell_type": "code",
   "execution_count": 26,
   "id": "8bcba83d",
   "metadata": {
    "scrolled": false
   },
   "outputs": [],
   "source": [
    "#Explore the relationship between Occupation and Is_Lead\n",
    "\n",
    "plt.figure(figsize=(10, 6))\n",
    "sns.barplot(x='Occupation', y='Is_Lead', data=data, ci=None, palette='viridis')\n",
    "plt.title('Proportion of Leads by Occupation')\n",
    "plt.xlabel('Occupation')\n",
    "plt.ylabel('Proportion of Leads')\n",
    "plt.show()"
   ]
  },
  {
   "cell_type": "code",
   "execution_count": 27,
   "id": "607d7f3e",
   "metadata": {},
   "outputs": [],
   "source": [
    "# Entrepreneurs stand out as the occupation category with the highest proportion of leads (above 60%).\n",
    "# This suggests that entrepreneurs are highly interested in the financial product or service being offered."
   ]
  },
  {
   "cell_type": "code",
   "execution_count": 28,
   "id": "aeacbf8c",
   "metadata": {},
   "outputs": [
    {
     "data": {
      "text/plain": [
       "<seaborn.axisgrid.PairGrid at 0x21684750370>"
      ]
     },
     "execution_count": 28,
     "metadata": {},
     "output_type": "execute_result"
    }
   ],
   "source": [
    "sns.pairplot(data , hue = 'Is_Lead')"
   ]
  },
  {
   "cell_type": "code",
   "execution_count": 29,
   "id": "5cbd1130",
   "metadata": {},
   "outputs": [],
   "source": [
    "# The pairplot reveals some separability between Is_Lead = 0 and Is_Lead = 1 based on features like Age \n",
    "# and Avg_Account_Balance. However, there’s also overlap, indicating some noise in the data."
   ]
  },
  {
   "cell_type": "code",
   "execution_count": 29,
   "id": "63f18a40",
   "metadata": {},
   "outputs": [
    {
     "data": {
      "text/plain": [
       "0    23789\n",
       "1     7540\n",
       "Name: Is_Lead, dtype: int64"
      ]
     },
     "execution_count": 29,
     "metadata": {},
     "output_type": "execute_result"
    }
   ],
   "source": [
    "data['Is_Lead'].value_counts()"
   ]
  },
  {
   "cell_type": "code",
   "execution_count": 30,
   "id": "fba635d7",
   "metadata": {},
   "outputs": [
    {
     "data": {
      "text/plain": [
       "3"
      ]
     },
     "execution_count": 30,
     "metadata": {},
     "output_type": "execute_result"
    }
   ],
   "source": [
    "data['Credit_Product'].nunique()"
   ]
  },
  {
   "cell_type": "code",
   "execution_count": 31,
   "id": "0173db8d",
   "metadata": {
    "scrolled": true
   },
   "outputs": [
    {
     "data": {
      "text/plain": [
       "4"
      ]
     },
     "execution_count": 31,
     "metadata": {},
     "output_type": "execute_result"
    }
   ],
   "source": [
    "data['Occupation'].nunique()"
   ]
  },
  {
   "cell_type": "code",
   "execution_count": 35,
   "id": "65c5820a",
   "metadata": {
    "scrolled": true
   },
   "outputs": [
    {
     "data": {
      "text/plain": [
       "ColumnTransformer(remainder='passthrough',\n",
       "                  transformers=[('ohe',\n",
       "                                 OneHotEncoder(drop='first', sparse=False),\n",
       "                                 ['Occupation']),\n",
       "                                ('be', BinaryEncoder(), ['Credit_Product'])])"
      ]
     },
     "execution_count": 35,
     "metadata": {},
     "output_type": "execute_result"
    }
   ],
   "source": [
    "#Preprocessing and Encoding\n",
    "# Separate features and target\n",
    "le = LabelEncoder()\n",
    "x = data.drop(['Is_Lead'] , axis = 1 )\n",
    "y = data['Is_Lead']\n",
    "\n",
    "transformer = ColumnTransformer(transformers=[\n",
    "    ('ohe' , OneHotEncoder(sparse=False , drop = 'first'), ['Occupation']),\n",
    "    ( 'be' , BinaryEncoder() , ['Credit_Product'])\n",
    "] , remainder='passthrough')\n",
    "\n",
    "x['Gender'] = le.fit_transform(x['Gender'])\n",
    "x['Is_Active'] = le.fit_transform(x['Is_Active'])\n",
    "transformer"
   ]
  },
  {
   "cell_type": "code",
   "execution_count": 36,
   "id": "f9a2dcf8",
   "metadata": {},
   "outputs": [],
   "source": [
    "custom_scorer = make_scorer(precision_score)\n",
    "sfs = SequentialFeatureSelector(estimator=LogisticRegression() ,n_features_to_select=3,\n",
    "                                direction='backward' , scoring=custom_scorer)"
   ]
  },
  {
   "cell_type": "code",
   "execution_count": 37,
   "id": "b60e264f",
   "metadata": {
    "scrolled": true
   },
   "outputs": [
    {
     "data": {
      "text/plain": [
       "SequentialFeatureSelector(direction='backward', estimator=LogisticRegression(),\n",
       "                          n_features_to_select=3,\n",
       "                          scoring=make_scorer(precision_score))"
      ]
     },
     "execution_count": 37,
     "metadata": {},
     "output_type": "execute_result"
    }
   ],
   "source": [
    "sfs.fit(transformer.fit_transform(x) , y)"
   ]
  },
  {
   "cell_type": "code",
   "execution_count": 38,
   "id": "4277d5e2",
   "metadata": {},
   "outputs": [
    {
     "data": {
      "text/plain": [
       "array(['x4', 'x6', 'x7'], dtype=object)"
      ]
     },
     "execution_count": 38,
     "metadata": {},
     "output_type": "execute_result"
    }
   ],
   "source": [
    "sfs.get_feature_names_out()"
   ]
  },
  {
   "cell_type": "code",
   "execution_count": 39,
   "id": "e5ee0f6c",
   "metadata": {},
   "outputs": [
    {
     "data": {
      "text/plain": [
       "array([4, 6, 7], dtype=int64)"
      ]
     },
     "execution_count": 39,
     "metadata": {},
     "output_type": "execute_result"
    }
   ],
   "source": [
    "sfs.get_support(indices=True)  #Occupation , #Vintage, #Credit_Product"
   ]
  },
  {
   "cell_type": "code",
   "execution_count": 40,
   "id": "c321857e",
   "metadata": {},
   "outputs": [],
   "source": [
    "models = [\n",
    "    ( 'lr' , LogisticRegression(multi_class='ovr') ),\n",
    "    ( 'RFC' , RandomForestClassifier() ),\n",
    "    ( 'Gradient Boosting' , GradientBoostingClassifier() ),\n",
    "    ( 'DTC' , DecisionTreeClassifier() )\n",
    "]"
   ]
  },
  {
   "cell_type": "code",
   "execution_count": 41,
   "id": "79fccbe5",
   "metadata": {
    "scrolled": false
   },
   "outputs": [
    {
     "name": "stdout",
     "output_type": "stream",
     "text": [
      "lr\n",
      "Avg Precision Train score: 0.8496023385173196\n",
      "Avg Precision Test score: 0.849601631958936\n",
      "Avg Recall Train score: 0.4248010610079576\n",
      "Avg Recall Test score: 0.4248010610079576\n",
      "Avg F1 Train score: 0.5663939713377082\n",
      "Avg F1 Test score: 0.5662825236402943\n",
      "****************************************\n",
      "RFC\n",
      "Avg Precision Train score: 0.8349230773198624\n",
      "Avg Precision Test score: 0.741219478576013\n",
      "Avg Recall Train score: 0.4996352785145889\n",
      "Avg Recall Test score: 0.4473474801061008\n",
      "Avg F1 Train score: 0.6224414468049579\n",
      "Avg F1 Test score: 0.5542930099053713\n",
      "****************************************\n",
      "Gradient Boosting\n",
      "Avg Precision Train score: 0.8500126415820637\n",
      "Avg Precision Test score: 0.8497002222805653\n",
      "Avg Recall Train score: 0.42523209549071617\n",
      "Avg Recall Test score: 0.4250663129973475\n",
      "Avg F1 Train score: 0.5668685757953454\n",
      "Avg F1 Test score: 0.5665302032864246\n",
      "****************************************\n",
      "DTC\n",
      "Avg Precision Train score: 0.8627936678301211\n",
      "Avg Precision Test score: 0.7490023206921318\n",
      "Avg Recall Train score: 0.47483421750663124\n",
      "Avg Recall Test score: 0.4179045092838196\n",
      "Avg F1 Train score: 0.6117856144478023\n",
      "Avg F1 Test score: 0.5350909860191565\n",
      "****************************************\n"
     ]
    }
   ],
   "source": [
    "#Since SequentialFeatureSelector only supports one metric, so I used a custom scorer.\n",
    "\n",
    "custom_scorer = make_scorer(precision_score)\n",
    "\n",
    "for model in models :\n",
    "    \n",
    "    pl = make_pipeline(transformer, StandardScaler() , SequentialFeatureSelector(estimator=LogisticRegression() ,n_features_to_select=3,\n",
    "                                direction='backward' , scoring=custom_scorer), model[1])\n",
    "    \n",
    "    scores = cross_validate(estimator=pl, X = x , y = y ,scoring=['precision', 'recall', 'f1'],\n",
    "                            cv = 5 , return_train_score=True )\n",
    "    \n",
    "    print(model[0])\n",
    "    print(f\"Avg Precision Train score: {scores['train_precision'].mean()}\")\n",
    "    print(f\"Avg Precision Test score: {scores['test_precision'].mean()}\")\n",
    "    print(f\"Avg Recall Train score: {scores['train_recall'].mean()}\")\n",
    "    print(f\"Avg Recall Test score: {scores['test_recall'].mean()}\")\n",
    "    print(f\"Avg F1 Train score: {scores['train_f1'].mean()}\")\n",
    "    print(f\"Avg F1 Test score: {scores['test_f1'].mean()}\")\n",
    "    print('*'*40)"
   ]
  },
  {
   "cell_type": "markdown",
   "id": "f4f5972b",
   "metadata": {},
   "source": [
    "#### LR Tuning"
   ]
  },
  {
   "cell_type": "code",
   "execution_count": 42,
   "id": "bed61433",
   "metadata": {},
   "outputs": [
    {
     "data": {
      "text/plain": [
       "Pipeline(steps=[('transformer',\n",
       "                 ColumnTransformer(remainder='passthrough',\n",
       "                                   transformers=[('ohe',\n",
       "                                                  OneHotEncoder(drop='first',\n",
       "                                                                sparse=False),\n",
       "                                                  ['Occupation']),\n",
       "                                                 ('be', BinaryEncoder(),\n",
       "                                                  ['Credit_Product'])])),\n",
       "                ('poly', PolynomialFeatures()), ('sclr', StandardScaler()),\n",
       "                ('lr', LogisticRegression(max_iter=5000))])"
      ]
     },
     "execution_count": 42,
     "metadata": {},
     "output_type": "execute_result"
    }
   ],
   "source": [
    "steps = []\n",
    "\n",
    "steps.append( ( 'transformer', transformer) )\n",
    "steps.append( ('poly' , PolynomialFeatures()) )\n",
    "steps.append( ('sclr' , StandardScaler()) )\n",
    "steps.append( ('lr' ,LogisticRegression(max_iter=5000) ))\n",
    "\n",
    "lr = Pipeline(steps = steps )\n",
    "lr"
   ]
  },
  {
   "cell_type": "code",
   "execution_count": 46,
   "id": "343a2de8",
   "metadata": {},
   "outputs": [],
   "source": [
    "#Changing the regularization parameter to control the inverse of the regularization strength in logistic regression\n",
    "#Changing polynomial feature transformer (Poly degree)\n",
    "lr_params = [\n",
    "    {\n",
    "        'lr__C' : [0.01 , 0.1 , 1 , 5 , 10],\n",
    "        'poly__degree' : [1,2]\n",
    "    }\n",
    "]"
   ]
  },
  {
   "cell_type": "code",
   "execution_count": 44,
   "id": "28b5a018",
   "metadata": {},
   "outputs": [],
   "source": [
    "lr_srch = GridSearchCV(estimator=lr , param_grid=lr_params , scoring='precision' , \n",
    "                       cv = 5 , return_train_score=True )"
   ]
  },
  {
   "cell_type": "code",
   "execution_count": 45,
   "id": "a3f2d9c7",
   "metadata": {},
   "outputs": [
    {
     "data": {
      "text/plain": [
       "GridSearchCV(cv=5,\n",
       "             estimator=Pipeline(steps=[('transformer',\n",
       "                                        ColumnTransformer(remainder='passthrough',\n",
       "                                                          transformers=[('ohe',\n",
       "                                                                         OneHotEncoder(drop='first',\n",
       "                                                                                       sparse=False),\n",
       "                                                                         ['Occupation']),\n",
       "                                                                        ('be',\n",
       "                                                                         BinaryEncoder(),\n",
       "                                                                         ['Credit_Product'])])),\n",
       "                                       ('poly', PolynomialFeatures()),\n",
       "                                       ('sclr', StandardScaler()),\n",
       "                                       ('lr',\n",
       "                                        LogisticRegression(max_iter=5000))]),\n",
       "             param_grid=[{'lr__C': [0.01, 0.1, 1, 5, 10],\n",
       "                          'poly__degree': [1, 2]}],\n",
       "             return_train_score=True, scoring='precision')"
      ]
     },
     "execution_count": 45,
     "metadata": {},
     "output_type": "execute_result"
    }
   ],
   "source": [
    "lr_srch.fit(x , y)"
   ]
  },
  {
   "cell_type": "code",
   "execution_count": 47,
   "id": "0dcd23a6",
   "metadata": {
    "scrolled": true
   },
   "outputs": [
    {
     "data": {
      "text/plain": [
       "Pipeline(steps=[('transformer',\n",
       "                 ColumnTransformer(remainder='passthrough',\n",
       "                                   transformers=[('ohe',\n",
       "                                                  OneHotEncoder(drop='first',\n",
       "                                                                sparse=False),\n",
       "                                                  ['Occupation']),\n",
       "                                                 ('be', BinaryEncoder(),\n",
       "                                                  ['Credit_Product'])])),\n",
       "                ('poly', PolynomialFeatures()), ('sclr', StandardScaler()),\n",
       "                ('lr', LogisticRegression(C=10, max_iter=5000))])"
      ]
     },
     "execution_count": 47,
     "metadata": {},
     "output_type": "execute_result"
    }
   ],
   "source": [
    "lr_srch.best_estimator_"
   ]
  },
  {
   "cell_type": "code",
   "execution_count": 48,
   "id": "2da36370",
   "metadata": {},
   "outputs": [
    {
     "data": {
      "text/plain": [
       "{'lr__C': 10, 'poly__degree': 2}"
      ]
     },
     "execution_count": 48,
     "metadata": {},
     "output_type": "execute_result"
    }
   ],
   "source": [
    "lr_srch.best_params_"
   ]
  },
  {
   "cell_type": "code",
   "execution_count": 49,
   "id": "23c092ab",
   "metadata": {},
   "outputs": [
    {
     "data": {
      "text/plain": [
       "array([0.80070251, 0.79922142, 0.79821206, 0.80476916, 0.797504  ,\n",
       "       0.806229  , 0.79747161, 0.80670578, 0.79747161, 0.80696132])"
      ]
     },
     "execution_count": 49,
     "metadata": {},
     "output_type": "execute_result"
    }
   ],
   "source": [
    "lr_srch.cv_results_['mean_train_score']"
   ]
  },
  {
   "cell_type": "code",
   "execution_count": 50,
   "id": "19694669",
   "metadata": {
    "scrolled": true
   },
   "outputs": [
    {
     "data": {
      "text/plain": [
       "array([0.80018267, 0.79822097, 0.7970036 , 0.79976828, 0.79647479,\n",
       "       0.80035296, 0.79657421, 0.80076886, 0.79657421, 0.80092285])"
      ]
     },
     "execution_count": 50,
     "metadata": {},
     "output_type": "execute_result"
    }
   ],
   "source": [
    "lr_srch.cv_results_['mean_test_score']"
   ]
  },
  {
   "cell_type": "code",
   "execution_count": 51,
   "id": "90acb2b3",
   "metadata": {
    "scrolled": true
   },
   "outputs": [
    {
     "data": {
      "text/plain": [
       "0.8009228486452462"
      ]
     },
     "execution_count": 51,
     "metadata": {},
     "output_type": "execute_result"
    }
   ],
   "source": [
    "lr_srch.best_score_"
   ]
  },
  {
   "cell_type": "code",
   "execution_count": 52,
   "id": "9fae2b20",
   "metadata": {},
   "outputs": [
    {
     "data": {
      "text/plain": [
       "GridSearchCV(cv=5,\n",
       "             estimator=Pipeline(steps=[('transformer',\n",
       "                                        ColumnTransformer(remainder='passthrough',\n",
       "                                                          transformers=[('ohe',\n",
       "                                                                         OneHotEncoder(drop='first',\n",
       "                                                                                       sparse=False),\n",
       "                                                                         ['Occupation']),\n",
       "                                                                        ('be',\n",
       "                                                                         BinaryEncoder(),\n",
       "                                                                         ['Credit_Product'])])),\n",
       "                                       ('poly', PolynomialFeatures()),\n",
       "                                       ('sclr', StandardScaler()),\n",
       "                                       ('lr',\n",
       "                                        LogisticRegression(max_iter=5000))]),\n",
       "             param_grid=[{'lr__C': [0.01, 0.1, 1, 5, 10],\n",
       "                          'poly__degree': [1, 2]}],\n",
       "             return_train_score=True, scoring='recall')"
      ]
     },
     "execution_count": 52,
     "metadata": {},
     "output_type": "execute_result"
    }
   ],
   "source": [
    "#lr recall score Tuning\n",
    "lr_srch = GridSearchCV(estimator=lr , param_grid=lr_params , scoring='recall' , \n",
    "                       cv = 5 , return_train_score=True )\n",
    "lr_srch.fit(x , y)"
   ]
  },
  {
   "cell_type": "code",
   "execution_count": 53,
   "id": "7e10f4d9",
   "metadata": {},
   "outputs": [
    {
     "data": {
      "text/plain": [
       "{'lr__C': 5, 'poly__degree': 2}"
      ]
     },
     "execution_count": 53,
     "metadata": {},
     "output_type": "execute_result"
    }
   ],
   "source": [
    "lr_srch.best_params_"
   ]
  },
  {
   "cell_type": "code",
   "execution_count": 54,
   "id": "a36a009b",
   "metadata": {},
   "outputs": [
    {
     "data": {
      "text/plain": [
       "array([0.48451592, 0.52221485, 0.49104775, 0.52877984, 0.49164456,\n",
       "       0.52834881, 0.49167772, 0.52828249, 0.49167772, 0.52818302])"
      ]
     },
     "execution_count": 54,
     "metadata": {},
     "output_type": "execute_result"
    }
   ],
   "source": [
    "lr_srch.cv_results_['mean_train_score']"
   ]
  },
  {
   "cell_type": "code",
   "execution_count": 55,
   "id": "38eba5c9",
   "metadata": {},
   "outputs": [
    {
     "data": {
      "text/plain": [
       "0.5277188328912467"
      ]
     },
     "execution_count": 55,
     "metadata": {},
     "output_type": "execute_result"
    }
   ],
   "source": [
    "lr_srch.best_score_"
   ]
  },
  {
   "cell_type": "markdown",
   "id": "23fa6d46",
   "metadata": {},
   "source": [
    "#### DTC Tuning"
   ]
  },
  {
   "cell_type": "code",
   "execution_count": 56,
   "id": "28585dc6",
   "metadata": {},
   "outputs": [
    {
     "data": {
      "text/plain": [
       "Pipeline(steps=[('transformer',\n",
       "                 ColumnTransformer(remainder='passthrough',\n",
       "                                   transformers=[('ohe',\n",
       "                                                  OneHotEncoder(drop='first',\n",
       "                                                                sparse=False),\n",
       "                                                  ['Occupation']),\n",
       "                                                 ('be', BinaryEncoder(),\n",
       "                                                  ['Credit_Product'])])),\n",
       "                ('sclr', StandardScaler()), ('DTC', DecisionTreeClassifier())])"
      ]
     },
     "execution_count": 56,
     "metadata": {},
     "output_type": "execute_result"
    }
   ],
   "source": [
    "steps = []\n",
    "\n",
    "steps.append( ( 'transformer', transformer) )\n",
    "steps.append( ('sclr' , StandardScaler()) )\n",
    "steps.append( ('DTC' , DecisionTreeClassifier() ))\n",
    "\n",
    "DTC = Pipeline(steps = steps )\n",
    "DTC"
   ]
  },
  {
   "cell_type": "code",
   "execution_count": 57,
   "id": "332f2fee",
   "metadata": {},
   "outputs": [
    {
     "data": {
      "text/plain": [
       "DecisionTreeClassifier()"
      ]
     },
     "execution_count": 57,
     "metadata": {},
     "output_type": "execute_result"
    }
   ],
   "source": [
    "DecisionTreeClassifier()"
   ]
  },
  {
   "cell_type": "code",
   "execution_count": 59,
   "id": "fd2fd2b7",
   "metadata": {},
   "outputs": [],
   "source": [
    "#measuring the quality of a split in the decision tree, decision tree splits, and also the maximum depth of the tree\n",
    "\n",
    "# gini: The Gini impurity is a measure of how often a randomly chosen element would be incorrectly classified. \n",
    "##It’s the default criterion in scikit-learn.\n",
    "# entropy: The entropy criterion uses information gain, which is based on the entropy of the data. It measures the impurity\n",
    "###of a split based on information theory.\n",
    "# log_loss: This is a newer option, which uses logistic loss to determine the best splits. It’s often\n",
    "##used in probabilistic settings and may perform better in some cases.\n",
    "dt_params = [\n",
    "    {\n",
    "        'DTC__criterion' : [\"gini\", \"entropy\", \"log_loss\"],\n",
    "        'DTC__splitter' : [\"best\", \"random\"],\n",
    "        'DTC__max_depth' : list(range(1 , 11))\n",
    "    }\n",
    "]"
   ]
  },
  {
   "cell_type": "code",
   "execution_count": 117,
   "id": "ce34e70b",
   "metadata": {},
   "outputs": [],
   "source": [
    "dt_srch = GridSearchCV(estimator=DTC , param_grid=dt_params , scoring='precision' , \n",
    "                       cv = 5 , return_train_score=True )"
   ]
  },
  {
   "cell_type": "code",
   "execution_count": 118,
   "id": "5fbbd23b",
   "metadata": {},
   "outputs": [
    {
     "data": {
      "text/plain": [
       "GridSearchCV(cv=5,\n",
       "             estimator=Pipeline(steps=[('transformer',\n",
       "                                        ColumnTransformer(remainder='passthrough',\n",
       "                                                          transformers=[('ohe',\n",
       "                                                                         OneHotEncoder(drop='first',\n",
       "                                                                                       sparse=False),\n",
       "                                                                         ['Occupation']),\n",
       "                                                                        ('be',\n",
       "                                                                         BinaryEncoder(),\n",
       "                                                                         ['Credit_Product'])])),\n",
       "                                       ('sclr', StandardScaler()),\n",
       "                                       ('DTC', DecisionTreeClassifier())]),\n",
       "             param_grid=[{'DTC__criterion': ['gini', 'entropy', 'log_loss'],\n",
       "                          'DTC__max_depth': [1, 2, 3, 4, 5, 6, 7, 8, 9, 10],\n",
       "                          'DTC__splitter': ['best', 'random']}],\n",
       "             return_train_score=True, scoring='precision')"
      ]
     },
     "execution_count": 118,
     "metadata": {},
     "output_type": "execute_result"
    }
   ],
   "source": [
    "dt_srch.fit(x , y)"
   ]
  },
  {
   "cell_type": "code",
   "execution_count": 119,
   "id": "f11b31ff",
   "metadata": {},
   "outputs": [
    {
     "data": {
      "text/plain": [
       "Pipeline(steps=[('transformer',\n",
       "                 ColumnTransformer(remainder='passthrough',\n",
       "                                   transformers=[('ohe',\n",
       "                                                  OneHotEncoder(drop='first',\n",
       "                                                                sparse=False),\n",
       "                                                  ['Occupation']),\n",
       "                                                 ('be', BinaryEncoder(),\n",
       "                                                  ['Credit_Product'])])),\n",
       "                ('sclr', StandardScaler()),\n",
       "                ('DTC',\n",
       "                 DecisionTreeClassifier(criterion='entropy', max_depth=4))])"
      ]
     },
     "execution_count": 119,
     "metadata": {},
     "output_type": "execute_result"
    }
   ],
   "source": [
    "dt_srch.best_estimator_"
   ]
  },
  {
   "cell_type": "code",
   "execution_count": 120,
   "id": "330e9b27",
   "metadata": {},
   "outputs": [
    {
     "data": {
      "text/plain": [
       "0.856693289591397"
      ]
     },
     "execution_count": 120,
     "metadata": {},
     "output_type": "execute_result"
    }
   ],
   "source": [
    "dt_srch.best_score_"
   ]
  },
  {
   "cell_type": "code",
   "execution_count": 61,
   "id": "7d767900",
   "metadata": {},
   "outputs": [
    {
     "data": {
      "text/plain": [
       "GridSearchCV(cv=5,\n",
       "             estimator=Pipeline(steps=[('transformer',\n",
       "                                        ColumnTransformer(remainder='passthrough',\n",
       "                                                          transformers=[('ohe',\n",
       "                                                                         OneHotEncoder(drop='first',\n",
       "                                                                                       sparse=False),\n",
       "                                                                         ['Occupation']),\n",
       "                                                                        ('be',\n",
       "                                                                         BinaryEncoder(),\n",
       "                                                                         ['Credit_Product'])])),\n",
       "                                       ('sclr', StandardScaler()),\n",
       "                                       ('DTC', DecisionTreeClassifier())]),\n",
       "             param_grid=[{'DTC__criterion': ['gini', 'entropy', 'log_loss'],\n",
       "                          'DTC__max_depth': [1, 2, 3, 4, 5, 6, 7, 8, 9, 10],\n",
       "                          'DTC__splitter': ['best', 'random']}],\n",
       "             return_train_score=True, scoring='recall')"
      ]
     },
     "execution_count": 61,
     "metadata": {},
     "output_type": "execute_result"
    }
   ],
   "source": [
    "#DT Recall Score Tuning\n",
    "dt_srch = GridSearchCV(estimator=DTC , param_grid=dt_params , scoring='recall' , \n",
    "                       cv = 5 , return_train_score=True )\n",
    "dt_srch.fit(x , y)"
   ]
  },
  {
   "cell_type": "code",
   "execution_count": 62,
   "id": "01fd2182",
   "metadata": {},
   "outputs": [
    {
     "data": {
      "text/plain": [
       "Pipeline(steps=[('transformer',\n",
       "                 ColumnTransformer(remainder='passthrough',\n",
       "                                   transformers=[('ohe',\n",
       "                                                  OneHotEncoder(drop='first',\n",
       "                                                                sparse=False),\n",
       "                                                  ['Occupation']),\n",
       "                                                 ('be', BinaryEncoder(),\n",
       "                                                  ['Credit_Product'])])),\n",
       "                ('sclr', StandardScaler()),\n",
       "                ('DTC',\n",
       "                 DecisionTreeClassifier(criterion='entropy', max_depth=7))])"
      ]
     },
     "execution_count": 62,
     "metadata": {},
     "output_type": "execute_result"
    }
   ],
   "source": [
    "dt_srch.best_estimator_"
   ]
  },
  {
   "cell_type": "code",
   "execution_count": 63,
   "id": "217e5bfa",
   "metadata": {},
   "outputs": [
    {
     "data": {
      "text/plain": [
       "0.5712201591511936"
      ]
     },
     "execution_count": 63,
     "metadata": {},
     "output_type": "execute_result"
    }
   ],
   "source": [
    "dt_srch.best_score_"
   ]
  },
  {
   "cell_type": "markdown",
   "id": "4b461b3b",
   "metadata": {},
   "source": [
    "#### GBC Tuning"
   ]
  },
  {
   "cell_type": "code",
   "execution_count": 64,
   "id": "286c8b4d",
   "metadata": {},
   "outputs": [],
   "source": [
    "steps = []\n",
    "steps.append(('transformer', transformer))\n",
    "steps.append(('sclr', StandardScaler()))\n",
    "steps.append(('GBC', GradientBoostingClassifier()))\n",
    "\n",
    "GBC = Pipeline(steps=steps)"
   ]
  },
  {
   "cell_type": "code",
   "execution_count": 65,
   "id": "ec4c6979",
   "metadata": {},
   "outputs": [],
   "source": [
    "gbc_params = {\n",
    "    'GBC__n_estimators': [50, 100],  # Number of boosting stages to be run\n",
    "    'GBC__learning_rate': [0.05, 0.1],  # Step size shrinkage used in update to prevent overfitting\n",
    "    'GBC__max_depth': [3, 5],  # Maximum depth of the individual trees\n",
    "}"
   ]
  },
  {
   "cell_type": "code",
   "execution_count": 126,
   "id": "6fb1bd56",
   "metadata": {},
   "outputs": [
    {
     "data": {
      "text/plain": [
       "GridSearchCV(cv=5,\n",
       "             estimator=Pipeline(steps=[('transformer',\n",
       "                                        ColumnTransformer(remainder='passthrough',\n",
       "                                                          transformers=[('ohe',\n",
       "                                                                         OneHotEncoder(drop='first',\n",
       "                                                                                       sparse=False),\n",
       "                                                                         ['Occupation']),\n",
       "                                                                        ('be',\n",
       "                                                                         BinaryEncoder(),\n",
       "                                                                         ['Credit_Product'])])),\n",
       "                                       ('sclr', StandardScaler()),\n",
       "                                       ('GBC', GradientBoostingClassifier())]),\n",
       "             param_grid={'GBC__learning_rate': [0.05, 0.1],\n",
       "                         'GBC__max_depth': [3, 5],\n",
       "                         'GBC__n_estimators': [50, 100]},\n",
       "             return_train_score=True, scoring='precision')"
      ]
     },
     "execution_count": 126,
     "metadata": {},
     "output_type": "execute_result"
    }
   ],
   "source": [
    "gbc_search = GridSearchCV(estimator=GBC, param_grid=gbc_params, scoring='precision', cv=5, return_train_score=True)\n",
    "\n",
    "gbc_search.fit(x, y)"
   ]
  },
  {
   "cell_type": "code",
   "execution_count": 127,
   "id": "18ea3610",
   "metadata": {},
   "outputs": [
    {
     "data": {
      "text/plain": [
       "Pipeline(steps=[('transformer',\n",
       "                 ColumnTransformer(remainder='passthrough',\n",
       "                                   transformers=[('ohe',\n",
       "                                                  OneHotEncoder(drop='first',\n",
       "                                                                sparse=False),\n",
       "                                                  ['Occupation']),\n",
       "                                                 ('be', BinaryEncoder(),\n",
       "                                                  ['Credit_Product'])])),\n",
       "                ('sclr', StandardScaler()),\n",
       "                ('GBC',\n",
       "                 GradientBoostingClassifier(learning_rate=0.05,\n",
       "                                            n_estimators=50))])"
      ]
     },
     "execution_count": 127,
     "metadata": {},
     "output_type": "execute_result"
    }
   ],
   "source": [
    "gbc_search.best_estimator_"
   ]
  },
  {
   "cell_type": "code",
   "execution_count": 128,
   "id": "8c3f9e61",
   "metadata": {},
   "outputs": [
    {
     "data": {
      "text/plain": [
       "0.8417112921209016"
      ]
     },
     "execution_count": 128,
     "metadata": {},
     "output_type": "execute_result"
    }
   ],
   "source": [
    "gbc_search.best_score_"
   ]
  },
  {
   "cell_type": "code",
   "execution_count": 66,
   "id": "2dbf5931",
   "metadata": {},
   "outputs": [
    {
     "data": {
      "text/plain": [
       "GridSearchCV(cv=5,\n",
       "             estimator=Pipeline(steps=[('transformer',\n",
       "                                        ColumnTransformer(remainder='passthrough',\n",
       "                                                          transformers=[('ohe',\n",
       "                                                                         OneHotEncoder(drop='first',\n",
       "                                                                                       sparse=False),\n",
       "                                                                         ['Occupation']),\n",
       "                                                                        ('be',\n",
       "                                                                         BinaryEncoder(),\n",
       "                                                                         ['Credit_Product'])])),\n",
       "                                       ('sclr', StandardScaler()),\n",
       "                                       ('GBC', GradientBoostingClassifier())]),\n",
       "             param_grid={'GBC__learning_rate': [0.05, 0.1],\n",
       "                         'GBC__max_depth': [3, 5],\n",
       "                         'GBC__n_estimators': [50, 100]},\n",
       "             return_train_score=True, scoring='recall')"
      ]
     },
     "execution_count": 66,
     "metadata": {},
     "output_type": "execute_result"
    }
   ],
   "source": [
    "#GBC Recall Score Tuning\n",
    "gbc_search = GridSearchCV(estimator=GBC, param_grid=gbc_params, scoring='recall', cv=5, return_train_score=True)\n",
    "\n",
    "gbc_search.fit(x, y)"
   ]
  },
  {
   "cell_type": "code",
   "execution_count": 67,
   "id": "9837f2ac",
   "metadata": {},
   "outputs": [
    {
     "data": {
      "text/plain": [
       "Pipeline(steps=[('transformer',\n",
       "                 ColumnTransformer(remainder='passthrough',\n",
       "                                   transformers=[('ohe',\n",
       "                                                  OneHotEncoder(drop='first',\n",
       "                                                                sparse=False),\n",
       "                                                  ['Occupation']),\n",
       "                                                 ('be', BinaryEncoder(),\n",
       "                                                  ['Credit_Product'])])),\n",
       "                ('sclr', StandardScaler()),\n",
       "                ('GBC', GradientBoostingClassifier(max_depth=5))])"
      ]
     },
     "execution_count": 67,
     "metadata": {},
     "output_type": "execute_result"
    }
   ],
   "source": [
    "gbc_search.best_estimator_"
   ]
  },
  {
   "cell_type": "code",
   "execution_count": 68,
   "id": "581f3df1",
   "metadata": {},
   "outputs": [
    {
     "data": {
      "text/plain": [
       "0.5596816976127321"
      ]
     },
     "execution_count": 68,
     "metadata": {},
     "output_type": "execute_result"
    }
   ],
   "source": [
    "gbc_search.best_score_"
   ]
  },
  {
   "cell_type": "markdown",
   "id": "2547d77e",
   "metadata": {},
   "source": [
    "#### RFC Tuning"
   ]
  },
  {
   "cell_type": "code",
   "execution_count": 69,
   "id": "9ca589ce",
   "metadata": {},
   "outputs": [],
   "source": [
    "steps = []\n",
    "steps.append(('transformer', transformer))\n",
    "steps.append(('sclr', StandardScaler()))\n",
    "steps.append(('RFC', RandomForestClassifier()))\n",
    "\n",
    "RFC = Pipeline(steps=steps)"
   ]
  },
  {
   "cell_type": "code",
   "execution_count": 70,
   "id": "e56fd4d9",
   "metadata": {},
   "outputs": [],
   "source": [
    "rfc_params = {\n",
    "    'RFC__n_estimators': [50, 100],  # Number of trees in the forest\n",
    "    'RFC__max_depth': [3, 5],  # Maximum depth of the tree\n",
    "    'RFC__min_samples_split': [2, 5],  # Minimum number of samples required to split an internal node\n",
    "}"
   ]
  },
  {
   "cell_type": "code",
   "execution_count": 135,
   "id": "3aec802a",
   "metadata": {},
   "outputs": [
    {
     "data": {
      "text/plain": [
       "GridSearchCV(cv=5,\n",
       "             estimator=Pipeline(steps=[('transformer',\n",
       "                                        ColumnTransformer(remainder='passthrough',\n",
       "                                                          transformers=[('ohe',\n",
       "                                                                         OneHotEncoder(drop='first',\n",
       "                                                                                       sparse=False),\n",
       "                                                                         ['Occupation']),\n",
       "                                                                        ('be',\n",
       "                                                                         BinaryEncoder(),\n",
       "                                                                         ['Credit_Product'])])),\n",
       "                                       ('sclr', StandardScaler()),\n",
       "                                       ('RFC', RandomForestClassifier())]),\n",
       "             param_grid={'RFC__max_depth': [3, 5],\n",
       "                         'RFC__min_samples_split': [2, 5],\n",
       "                         'RFC__n_estimators': [50, 100]},\n",
       "             return_train_score=True, scoring='precision')"
      ]
     },
     "execution_count": 135,
     "metadata": {},
     "output_type": "execute_result"
    }
   ],
   "source": [
    "rfc_search = GridSearchCV(estimator=RFC, param_grid=rfc_params, scoring='precision', cv=5, return_train_score=True)\n",
    "\n",
    "rfc_search.fit(x, y)"
   ]
  },
  {
   "cell_type": "code",
   "execution_count": 138,
   "id": "69d088aa",
   "metadata": {},
   "outputs": [
    {
     "data": {
      "text/plain": [
       "Pipeline(steps=[('transformer',\n",
       "                 ColumnTransformer(remainder='passthrough',\n",
       "                                   transformers=[('ohe',\n",
       "                                                  OneHotEncoder(drop='first',\n",
       "                                                                sparse=False),\n",
       "                                                  ['Occupation']),\n",
       "                                                 ('be', BinaryEncoder(),\n",
       "                                                  ['Credit_Product'])])),\n",
       "                ('sclr', StandardScaler()),\n",
       "                ('RFC', RandomForestClassifier(max_depth=3))])"
      ]
     },
     "execution_count": 138,
     "metadata": {},
     "output_type": "execute_result"
    }
   ],
   "source": [
    "rfc_search.best_estimator_"
   ]
  },
  {
   "cell_type": "code",
   "execution_count": 139,
   "id": "4827cbb7",
   "metadata": {},
   "outputs": [
    {
     "data": {
      "text/plain": [
       "0.8550100054405068"
      ]
     },
     "execution_count": 139,
     "metadata": {},
     "output_type": "execute_result"
    }
   ],
   "source": [
    "rfc_search.best_score_"
   ]
  },
  {
   "cell_type": "code",
   "execution_count": 71,
   "id": "f0ea22f2",
   "metadata": {},
   "outputs": [
    {
     "data": {
      "text/plain": [
       "GridSearchCV(cv=5,\n",
       "             estimator=Pipeline(steps=[('transformer',\n",
       "                                        ColumnTransformer(remainder='passthrough',\n",
       "                                                          transformers=[('ohe',\n",
       "                                                                         OneHotEncoder(drop='first',\n",
       "                                                                                       sparse=False),\n",
       "                                                                         ['Occupation']),\n",
       "                                                                        ('be',\n",
       "                                                                         BinaryEncoder(),\n",
       "                                                                         ['Credit_Product'])])),\n",
       "                                       ('sclr', StandardScaler()),\n",
       "                                       ('RFC', RandomForestClassifier())]),\n",
       "             param_grid={'RFC__max_depth': [3, 5],\n",
       "                         'RFC__min_samples_split': [2, 5],\n",
       "                         'RFC__n_estimators': [50, 100]},\n",
       "             return_train_score=True, scoring='recall')"
      ]
     },
     "execution_count": 71,
     "metadata": {},
     "output_type": "execute_result"
    }
   ],
   "source": [
    "#RFC Recall Score Tuning\n",
    "rfc_search = GridSearchCV(estimator=RFC, param_grid=rfc_params, scoring='recall', cv=5, return_train_score=True)\n",
    "\n",
    "rfc_search.fit(x, y)"
   ]
  },
  {
   "cell_type": "code",
   "execution_count": 72,
   "id": "e2dd7ad5",
   "metadata": {},
   "outputs": [
    {
     "data": {
      "text/plain": [
       "Pipeline(steps=[('transformer',\n",
       "                 ColumnTransformer(remainder='passthrough',\n",
       "                                   transformers=[('ohe',\n",
       "                                                  OneHotEncoder(drop='first',\n",
       "                                                                sparse=False),\n",
       "                                                  ['Occupation']),\n",
       "                                                 ('be', BinaryEncoder(),\n",
       "                                                  ['Credit_Product'])])),\n",
       "                ('sclr', StandardScaler()),\n",
       "                ('RFC',\n",
       "                 RandomForestClassifier(max_depth=5, min_samples_split=5,\n",
       "                                        n_estimators=50))])"
      ]
     },
     "execution_count": 72,
     "metadata": {},
     "output_type": "execute_result"
    }
   ],
   "source": [
    "rfc_search.best_estimator_"
   ]
  },
  {
   "cell_type": "code",
   "execution_count": 73,
   "id": "ca158345",
   "metadata": {},
   "outputs": [
    {
     "data": {
      "text/plain": [
       "0.48037135278514587"
      ]
     },
     "execution_count": 73,
     "metadata": {},
     "output_type": "execute_result"
    }
   ],
   "source": [
    "rfc_search.best_score_"
   ]
  },
  {
   "cell_type": "code",
   "execution_count": null,
   "id": "50aa7952",
   "metadata": {},
   "outputs": [],
   "source": []
  },
  {
   "cell_type": "code",
   "execution_count": 2,
   "id": "99d52515",
   "metadata": {},
   "outputs": [
    {
     "name": "stdout",
     "output_type": "stream",
     "text": [
      "Overwriting streamlit_app.py\n"
     ]
    }
   ],
   "source": [
    "%%writefile streamlit_app.py\n",
    "import streamlit as st\n",
    "import pandas as pd\n",
    "import numpy as np\n",
    "import matplotlib.pyplot as plt\n",
    "import seaborn as sns\n",
    "from sklearn.preprocessing import LabelEncoder, OneHotEncoder, StandardScaler\n",
    "from sklearn.compose import ColumnTransformer\n",
    "from sklearn.pipeline import Pipeline\n",
    "from sklearn.model_selection import train_test_split, GridSearchCV, cross_validate\n",
    "from sklearn.linear_model import LogisticRegression\n",
    "from sklearn.tree import DecisionTreeClassifier\n",
    "from sklearn.ensemble import RandomForestClassifier, GradientBoostingClassifier\n",
    "from category_encoders import BinaryEncoder\n",
    "\n",
    "# Load dataset\n",
    "def load_data():\n",
    "    data = pd.read_csv('Credit Card Data _Updated.csv')\n",
    "    data.drop(columns=['ID', 'Region_Code', 'Channel_Code'], inplace=True)\n",
    "    data['Vintage'].fillna(data['Vintage'].median(), inplace=True)\n",
    "    data['Credit_Product'].fillna('Unknown', inplace=True)\n",
    "    return data\n",
    "\n",
    "data = load_data()\n",
    "\n",
    "# Sidebar navigation\n",
    "st.sidebar.title(\"Navigation\")\n",
    "page = st.sidebar.radio(\"Go to\", [\"Exploratory Data Analysis\", \"Model Prediction\"])\n",
    "\n",
    "# Preprocessing and encoding\n",
    "def preprocess_data(data):\n",
    "    le = LabelEncoder()\n",
    "    data['Gender'] = le.fit_transform(data['Gender'])\n",
    "    data['Is_Active'] = le.fit_transform(data['Is_Active'])\n",
    "    x = data.drop('Is_Lead', axis=1)\n",
    "    y = le.fit_transform(data['Is_Lead'])\n",
    "\n",
    "    transformer = ColumnTransformer(\n",
    "        transformers=[\n",
    "            ('ohe', OneHotEncoder(sparse=False, drop='first'), ['Occupation']),\n",
    "            ('be', BinaryEncoder(), ['Credit_Product'])\n",
    "        ], remainder='passthrough'\n",
    "    )\n",
    "    return x, y, transformer\n",
    "\n",
    "# EDA Page\n",
    "if page == \"Exploratory Data Analysis\":\n",
    "    st.title(\"Exploratory Data Analysis\")\n",
    "\n",
    "    if st.checkbox(\"Show Data Overview\"):\n",
    "        st.dataframe(data.head())\n",
    "        st.write(\"Shape of the dataset:\", data.shape)\n",
    "        st.write(\"Missing values:\", data.isnull().sum())\n",
    "\n",
    "    st.subheader(\"Univariate Analysis\")\n",
    "    feature = st.selectbox(\"Choose a feature to analyze:\", ['Age', 'Avg_Account_Balance'])\n",
    "    fig, ax = plt.subplots(figsize=(8, 6))\n",
    "    sns.histplot(data[feature], kde=True, ax=ax, color='blue')\n",
    "    ax.set_title(f\"Distribution of {feature}\")\n",
    "    st.pyplot(fig)\n",
    "\n",
    "    st.subheader(\"Bivariate Analysis\")\n",
    "    \n",
    "    st.subheader(\"Pairplot (Is_Lead)\")\n",
    "    fig = sns.pairplot(data, hue='Is_Lead')\n",
    "    st.pyplot(fig)\n",
    "    \n",
    "        # Proportion of Leads by Occupation\n",
    "    st.subheader(\"Proportion of Leads by Occupation\")\n",
    "    fig, ax = plt.subplots(figsize=(10, 6))\n",
    "    sns.barplot(x='Occupation', y='Is_Lead', data=data, ci=None, palette='viridis', ax=ax)\n",
    "    ax.set_title('Proportion of Leads by Occupation')\n",
    "    ax.set_xlabel('Occupation')\n",
    "    ax.set_ylabel('Proportion of Leads')\n",
    "    st.pyplot(fig)\n",
    "    \n",
    "    st.subheader(\"Distribution of Leads (Is_Lead)\")\n",
    "    fig, ax = plt.subplots(figsize=(8, 6))\n",
    "    sns.countplot(x='Is_Lead', data=data, palette='viridis', ax=ax)\n",
    "    ax.set_title('Distribution of Leads (Is_Lead)')\n",
    "    ax.set_xlabel('Is_Lead (0 = Non-Lead, 1 = Lead)')\n",
    "    ax.set_ylabel('Count')\n",
    "    st.pyplot(fig)\n",
    "    \n",
    "# Model Prediction Page\n",
    "elif page == \"Model Prediction\":\n",
    "    st.title(\"Model Prediction\")\n",
    "\n",
    "    models = {\n",
    "        \"Logistic Regression\": LogisticRegression(max_iter=5000),\n",
    "        \"Decision Tree\": DecisionTreeClassifier(),\n",
    "        \"Random Forest\": RandomForestClassifier(),\n",
    "        \"Gradient Boosting\": GradientBoostingClassifier()\n",
    "    }\n",
    "\n",
    "    model_choice = st.selectbox(\"Choose a model:\", list(models.keys()))\n",
    "    selected_model = models[model_choice]\n",
    "\n",
    "    x, y, transformer = preprocess_data(data)\n",
    "\n",
    "    with st.form(\"prediction_form\"):\n",
    "        st.subheader(\"Input Features\")\n",
    "        age = st.number_input(\"Age\", min_value=18, max_value=100, value=35)\n",
    "        avg_balance = st.number_input(\"Average Account Balance\", min_value=0.0, value=50000.0)\n",
    "        gender = st.selectbox(\"Gender\", [\"Male\", \"Female\"])\n",
    "        occupation = st.selectbox(\"Occupation\", [\"Salaried\", \"Self_Employed\", \"Other\"])\n",
    "        credit_product = st.selectbox(\"Credit Product\", [\"Yes\", \"No\", \"Unknown\"])\n",
    "        is_active = st.selectbox(\"Is Active\", [\"Yes\", \"No\"])\n",
    "        vintage = st.number_input(\"Vintage (months)\", min_value=0, max_value=240, value=12)\n",
    "\n",
    "        submit_button = st.form_submit_button(label=\"Predict\")\n",
    "\n",
    "    if submit_button:\n",
    "        input_data = pd.DataFrame.from_dict({\n",
    "            'Age': [age], 'Avg_Account_Balance': [avg_balance], 'Gender': [1 if gender == 'Male' else 0],\n",
    "            'Occupation': [occupation], 'Credit_Product': [credit_product], 'Is_Active': [1 if is_active == 'Yes' else 0],\n",
    "            'Vintage': [vintage]\n",
    "        })\n",
    "\n",
    "        pipeline = Pipeline([\n",
    "            ('transformer', transformer),\n",
    "            ('scaler', StandardScaler()),\n",
    "            ('model', selected_model)\n",
    "        ])\n",
    "        x_train, x_test, y_train, y_test = train_test_split(x, y, test_size=0.2, random_state=42)\n",
    "        pipeline.fit(x_train, y_train)\n",
    "        prediction = pipeline.predict(input_data)\n",
    "        st.success(f\"Predicted Lead Status: {'Lead' if prediction[0] == 1 else 'Non-Lead'}\")\n"
   ]
  },
  {
   "cell_type": "code",
   "execution_count": 3,
   "id": "fb5f173d",
   "metadata": {},
   "outputs": [
    {
     "name": "stdout",
     "output_type": "stream",
     "text": [
      "^C\n"
     ]
    }
   ],
   "source": [
    "! streamlit run streamlit_app.py"
   ]
  },
  {
   "cell_type": "code",
   "execution_count": null,
   "id": "323545db",
   "metadata": {},
   "outputs": [],
   "source": []
  },
  {
   "cell_type": "code",
   "execution_count": null,
   "id": "081fe8d9",
   "metadata": {},
   "outputs": [],
   "source": []
  }
 ],
 "metadata": {
  "kernelspec": {
   "display_name": "Python 3 (ipykernel)",
   "language": "python",
   "name": "python3"
  },
  "language_info": {
   "codemirror_mode": {
    "name": "ipython",
    "version": 3
   },
   "file_extension": ".py",
   "mimetype": "text/x-python",
   "name": "python",
   "nbconvert_exporter": "python",
   "pygments_lexer": "ipython3",
   "version": "3.9.18"
  }
 },
 "nbformat": 4,
 "nbformat_minor": 5
}
